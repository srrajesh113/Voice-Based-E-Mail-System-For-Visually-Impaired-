{
 "cells": [
  {
   "cell_type": "markdown",
   "metadata": {},
   "source": [
    "# VOICE BASED EMAIL SYSTEM FOR VISUALLY IMPAIRED"
   ]
  },
  {
   "cell_type": "code",
   "execution_count": 4,
   "metadata": {
    "ExecuteTime": {
     "end_time": "2020-11-18T09:37:24.991993Z",
     "start_time": "2020-11-18T09:37:24.985599Z"
    }
   },
   "outputs": [],
   "source": [
    "import speech_recognition as sr\n",
    "import playsound\n",
    "from gtts import gTTS\n",
    "import pyaudio\n",
    "import smtplib\n",
    "import imaplib\n",
    "from email.mime.text import MIMEText\n",
    "from email.header import decode_header,make_header\n",
    "import email\n",
    "from bs4 import BeautifulSoup\n",
    "import os\n",
    "import time"
   ]
  },
  {
   "cell_type": "code",
   "execution_count": 2,
   "metadata": {
    "ExecuteTime": {
     "end_time": "2020-11-18T09:37:17.205662Z",
     "start_time": "2020-11-18T09:37:12.968608Z"
    },
    "scrolled": true
   },
   "outputs": [
    {
     "name": "stdout",
     "output_type": "stream",
     "text": [
      "Voice Based Email System For Visual Impaired\n"
     ]
    }
   ],
   "source": [
    "#read the project name\n",
    "project_name=\"Voice Based Email System For Visual Impaired\"\n",
    "print(project_name)\n",
    "tts=gTTS(project_name,lang='en',lang_check=True)\n",
    "tts.save(\"project_name.mp3\")\n",
    "playsound.playsound(\"project_name.mp3\")\n",
    "os.remove(\"project_name.mp3\")"
   ]
  },
  {
   "cell_type": "code",
   "execution_count": 5,
   "metadata": {
    "ExecuteTime": {
     "end_time": "2020-11-18T09:37:45.861265Z",
     "start_time": "2020-11-18T09:37:38.711309Z"
    }
   },
   "outputs": [
    {
     "name": "stdout",
     "output_type": "stream",
     "text": [
      "1. composed a mail.\n",
      "2. check your inbox.\n"
     ]
    }
   ],
   "source": [
    "#options\n",
    "option1=\"1. composed a mail.\"\n",
    "print(option1)\n",
    "playsound.playsound(\"option1.mp3\")\n",
    "time.sleep(1)\n",
    "option2=\"2. check your inbox.\"\n",
    "print(option2)\n",
    "playsound.playsound(\"option2.mp3\")"
   ]
  },
  {
   "cell_type": "code",
   "execution_count": null,
   "metadata": {
    "ExecuteTime": {
     "end_time": "2020-11-18T09:37:20.567382Z",
     "start_time": "2020-11-18T09:37:12.501Z"
    }
   },
   "outputs": [],
   "source": [
    "#getting the speech from user and convert it into string\n",
    "def getspeech(limit):\n",
    "\n",
    "    playsound.playsound(\"yourchoice.mp3\")\n",
    "    \n",
    "    r = sr.Recognizer()\n",
    "    \n",
    "    with sr.Microphone() as source:\n",
    "        \n",
    "        print (\"Your choice:\")\n",
    "        audio=r.listen(source,phrase_time_limit=limit)\n",
    "        \n",
    "        print (\"ok done!!\")\n",
    "        playsound.playsound(\"done.mp3\")\n",
    "        \n",
    "    \n",
    "    try:\n",
    "        text=r.recognize_google(audio)\n",
    "        print(\"you said: \"+text)\n",
    "        \n",
    "        tts=gTTS(\"you said\"+str(text),lang='en',lang_check=True)\n",
    "        tts.save(\"choices.mp3\")\n",
    "        \n",
    "        playsound.playsound(\"choices.mp3\")\n",
    "        os.remove(\"choices.mp3\")\n",
    "        return text\n",
    "    \n",
    "    except sr.UnknownValueError:\n",
    "        print(\"Google Speech Recognition could not understand audio.\")\n",
    "        playsound.playsound(\"not_understand_audio.mp3\")\n",
    "        playsound.playsound(\"try again.mp3\")\n",
    "        return getspeech(limit)\n",
    "    \n",
    "    except sr.RequestError as e:\n",
    "        error=\"Could not request results from Google Speech Recognition service; {0}\".format(e)\n",
    "        print(error) \n",
    "        return \"cancel\""
   ]
  },
  {
   "cell_type": "code",
   "execution_count": 6,
   "metadata": {
    "ExecuteTime": {
     "end_time": "2020-11-18T09:38:25.132428Z",
     "start_time": "2020-11-18T09:38:25.122912Z"
    }
   },
   "outputs": [],
   "source": [
    "#convert am and pm\n",
    "def convert_am_pm(da):\n",
    "    a=int(da[:2])\n",
    "    if(a==0):\n",
    "        s=\"12\"+da[2:]+\" AM\"\n",
    "        return s \n",
    "    elif(a==12):\n",
    "        s=\"12\"+da[2:]+\" PM\"\n",
    "        return s\n",
    "    elif(a>12):\n",
    "        s=str(a-12)+da[2:]+\" PM\"\n",
    "        return s\n",
    "    else:\n",
    "        s=da[:]+\" AM\"\n",
    "        return s"
   ]
  },
  {
   "cell_type": "code",
   "execution_count": 7,
   "metadata": {
    "ExecuteTime": {
     "end_time": "2020-11-18T09:38:25.790196Z",
     "start_time": "2020-11-18T09:38:25.782171Z"
    }
   },
   "outputs": [],
   "source": [
    "#processing with email id\n",
    "def email_process(email_address):\n",
    "    \n",
    "    import re\n",
    "    \n",
    "    email_address=email_address.lower()\n",
    "    l=email_address.split(\" \")\n",
    "    s=\"\"\n",
    "    for i in l:\n",
    "        s=s+i\n",
    "    print(s)\n",
    "    s=re.sub(\"dot\",\".\",s)\n",
    "    s=re.sub(\"ta\",\"@\",s[::-1],count=1)\n",
    "\n",
    "    return s[::-1]"
   ]
  },
  {
   "cell_type": "code",
   "execution_count": null,
   "metadata": {
    "ExecuteTime": {
     "end_time": "2020-11-18T09:37:20.586276Z",
     "start_time": "2020-11-18T09:37:12.511Z"
    }
   },
   "outputs": [],
   "source": [
    "a=1\n",
    "cancel=True\n",
    "while(cancel==True):\n",
    "    re=getspeech(5)\n",
    "    if(re==\"cancel\"):\n",
    "        cancel=False\n",
    "    elif(re==\"option one\" or re==\"option 1\" or re==\"1\" or re==\"one\"):\n",
    "        print(\"yes\")\n",
    "        a=1\n",
    "        break\n",
    "    elif(re==\"option two\" or re==\"option 2\" or re==\"2\" or re==\"two\" or re==\"Tu\" ):\n",
    "        print(\"two ok\")\n",
    "        a=2\n",
    "        break\n",
    "    else:\n",
    "        playsound.playsound(\"invalid_option.mp3\")\n",
    "        \n",
    "if(a==1): #composed the email\n",
    "    \n",
    "    while(cancel==True):\n",
    "        playsound.playsound(\"askemail.mp3\")\n",
    "        print(\"say sender email address\")\n",
    "        address=getspeech(8)\n",
    "        playsound.playsound(\"confirm.mp3\")\n",
    "        print(\"yes or no\")\n",
    "        comfirm=getspeech(5)\n",
    "        if(comfirm==\"cancel\"):\n",
    "            cancel=False\n",
    "        if(comfirm==\"yes\" or comfirm==\"s\" or comfirm==\"Yash\"):\n",
    "            em=email_process(address)\n",
    "            print(em)\n",
    "            break\n",
    "\n",
    "    while(cancel==True):\n",
    "        playsound.playsound(\"sub.mp3\")\n",
    "        print(\"say ur subject\")\n",
    "        sub=getspeech(10)\n",
    "        playsound.playsound(\"confirm.mp3\")\n",
    "        print(\"yes or no\")\n",
    "        comfirm=getspeech(5)\n",
    "        if(comfirm==\"cancel\"):\n",
    "            cancel=False\n",
    "        if(comfirm==\"yes\" or comfirm==\"s\" or comfirm==\"Yash\"):\n",
    "            break\n",
    "            \n",
    "    while(cancel==True):\n",
    "        playsound.playsound(\"mes.mp3\")\n",
    "        print(\"say ur message\")\n",
    "        message=getspeech(10)\n",
    "        playsound.playsound(\"confirm.mp3\")\n",
    "        print(\"yes or no\")\n",
    "        comfirm=getspeech(5)\n",
    "        if(comfirm==\"cancel\"):\n",
    "            cancel=False\n",
    "        if(comfirm==\"yes\" or comfirm==\"s\" or comfirm==\"Yash\"):\n",
    "            break\n",
    "            \n",
    "    if(cancel==True):\n",
    "        playsound.playsound(\"pleasewait.mp3\")\n",
    "        message = MIMEText(message)\n",
    "        message['to'] = em\n",
    "        message['subject'] = sub\n",
    "        mail = smtplib.SMTP('smtp.gmail.com',587) #host and port area\n",
    "        mail.ehlo()  #Hostname to send for this command defaults to the FQDN of the local host.\n",
    "        mail.starttls() #security connection\n",
    "        mail.login('your_email_id@gmail.com','password') #login part\n",
    "        mail.sendmail('your_email_id@gmail.com',em,message.as_string()) #send part\n",
    "        print (\"Thank you! Your mail has send. \")\n",
    "        playsound.playsound(\"emailsent.mp3\")\n",
    "        mail.close()\n",
    "        \n",
    "if(a==2): #check the indox\n",
    "    mail = imaplib.IMAP4_SSL('imap.gmail.com',993) #this is host and port area.... ssl security\n",
    "    unm = ('your_email_id@gmail.com')  #username\n",
    "    psw = ('password')  #password\n",
    "    mail.login(unm,psw)  #login\n",
    "    stat, total = mail.select('Inbox')\n",
    "    #total number of mails in inbox\n",
    "    print (\"Number of mails in your inbox :\"+str(total)+\"\\n\")\n",
    "    tts = gTTS(text=\"Total mails are :\"+str(total), lang='en') #voice out\n",
    "    tts.save(\"total.mp3\")\n",
    "    playsound.playsound(\"total.mp3\")\n",
    "    os.remove(\"total.mp3\")\n",
    "    \n",
    "    for i in range(1,3):\n",
    "        result, data = mail.uid('search',None, \"ALL\")\n",
    "        inbox_item_list = data[0].split()\n",
    "        new = inbox_item_list[-i]\n",
    "        \n",
    "        result2, email_data = mail.uid('fetch', new, '(RFC822)') #fetch\n",
    "        raw_email = email_data[0][1].decode(\"utf-8\") #decode\n",
    "        email_message = email.message_from_string(raw_email)\n",
    "        \n",
    "        dh=decode_header(str(email_message['From']))\n",
    "        mh=str(make_header(dh))\n",
    "        \n",
    "        id_from=\"From: \"+mh\n",
    "        print (id_from)\n",
    "        \n",
    "        dh1=decode_header(str(email_message['Subject']))\n",
    "        mh1=str(make_header(dh))\n",
    "        id_sub=\"and your Subject: \"+mh\n",
    "        print (id_sub)\n",
    "        \n",
    "        date=email_message['Date'].split(\" \")\n",
    "        d=convert_am_pm(date[4][0:5])\n",
    "        id_date=\"Date: \"+date[1]+\" \"+date[2]+\" \"+date[3]+\" \"+\"at \"+d\n",
    "        print(id_date+\"\\n\")\n",
    "        \n",
    "        \n",
    "        tts = gTTS(text=\"Email: \"+str(i)+id_from+id_sub+id_date, lang='en')\n",
    "        ttsname=(\"mail.mp3\")\n",
    "        tts.save(ttsname)\n",
    "        playsound.playsound(\"mail.mp3\")\n",
    "        os.remove(\"mail.mp3\")"
   ]
  },
  {
   "cell_type": "code",
   "execution_count": null,
   "metadata": {},
   "outputs": [],
   "source": []
  }
 ],
 "metadata": {
  "kernelspec": {
   "display_name": "Python 3",
   "language": "python",
   "name": "python3"
  },
  "language_info": {
   "codemirror_mode": {
    "name": "ipython",
    "version": 3
   },
   "file_extension": ".py",
   "mimetype": "text/x-python",
   "name": "python",
   "nbconvert_exporter": "python",
   "pygments_lexer": "ipython3",
   "version": "3.7.4"
  }
 },
 "nbformat": 4,
 "nbformat_minor": 2
}
